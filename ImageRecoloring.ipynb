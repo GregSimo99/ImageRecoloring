{
  "nbformat": 4,
  "nbformat_minor": 0,
  "metadata": {
    "colab": {
      "provenance": []
    },
    "kernelspec": {
      "name": "python3",
      "display_name": "Python 3"
    },
    "language_info": {
      "name": "python"
    }
  },
  "cells": [
    {
      "cell_type": "markdown",
      "source": [
        "# Image Recoloring\n",
        "**TODO:**\n",
        "\n",
        "\n",
        "* Dataset class\n",
        "* Training and test split\n",
        "* Data augmentation (?)\n",
        "* Model of generator and discriminator\n",
        "* Loss function\n",
        "* Traing procedure\n",
        "\n"
      ],
      "metadata": {
        "id": "exzWdD-hiKTe"
      }
    },
    {
      "cell_type": "markdown",
      "source": [
        "## Setup\n",
        "\n",
        "\n"
      ],
      "metadata": {
        "id": "PRh1JRuj9QJr"
      }
    },
    {
      "cell_type": "code",
      "execution_count": null,
      "metadata": {
        "id": "57vhPwr8mGNw"
      },
      "outputs": [],
      "source": [
        "import matplotlib.pyplot as plt\n",
        "import os\n",
        "import torch\n",
        "import torch.nn as nn\n",
        "from torchvision.transforms import ToTensor\n",
        "from torchvision.utils import make_grid\n",
        "from torch.utils.data import DataLoader\n",
        "import time as time\n",
        "import numpy as np\n",
        "from IPython import display"
      ]
    },
    {
      "cell_type": "markdown",
      "source": [
        "## Prepare dataset\n",
        "\n",
        "The dataset is shared here https://drive.google.com/file/d/1Zq46n_VFuENm1OLaRaKQkIqq8wA__vFq/view?usp=sharing. Add a shortcut to your own google drive and mount drive on google colab."
      ],
      "metadata": {
        "id": "nLZ3lWLL90fZ"
      }
    },
    {
      "cell_type": "code",
      "source": [
        "from google.colab import drive\n",
        "drive.mount('/content/drive')"
      ],
      "metadata": {
        "id": "l-W6UK1T96aV",
        "colab": {
          "base_uri": "https://localhost:8080/"
        },
        "outputId": "8084500d-bda8-43d8-faf0-321ce95d86d7"
      },
      "execution_count": 1,
      "outputs": [
        {
          "output_type": "stream",
          "name": "stdout",
          "text": [
            "Mounted at /content/drive\n"
          ]
        }
      ]
    },
    {
      "cell_type": "code",
      "source": [
        "!unzip /content/drive/MyDrive/COCOtrain2014.zip\n",
        "!rm -rf /content/__MACOSX"
      ],
      "metadata": {
        "id": "zy65hp9bnboT"
      },
      "execution_count": null,
      "outputs": []
    },
    {
      "cell_type": "markdown",
      "source": [
        "ALby:\n",
        "\n",
        "\n",
        "*   Classe dataset e dataloader\n",
        "*   Resize a 256 x 256\n",
        "* Bianco e nero \n",
        "* split train e test (80:20)\n",
        "\n",
        "\n",
        "\n",
        "\n"
      ],
      "metadata": {
        "id": "a23CvQSS1a9U"
      }
    },
    {
      "cell_type": "markdown",
      "source": [
        "## Create the models"
      ],
      "metadata": {
        "id": "qHfLMmIQ-INO"
      }
    },
    {
      "cell_type": "markdown",
      "source": [
        "### Generator"
      ],
      "metadata": {
        "id": "ft3php1X_AxZ"
      }
    },
    {
      "cell_type": "code",
      "source": [
        "# codice"
      ],
      "metadata": {
        "id": "u2s9N_nJ_E0c"
      },
      "execution_count": null,
      "outputs": []
    },
    {
      "cell_type": "markdown",
      "source": [
        "### Discriminator"
      ],
      "metadata": {
        "id": "I74D5aXe_GKJ"
      }
    },
    {
      "cell_type": "code",
      "source": [
        "# codice"
      ],
      "metadata": {
        "id": "NKkjtlm8_NO_"
      },
      "execution_count": null,
      "outputs": []
    },
    {
      "cell_type": "markdown",
      "source": [
        "## Define the loss"
      ],
      "metadata": {
        "id": "QUN0i7CsCRqs"
      }
    },
    {
      "cell_type": "markdown",
      "source": [
        "### Generator loss"
      ],
      "metadata": {
        "id": "VHU5VNizCVfJ"
      }
    },
    {
      "cell_type": "code",
      "source": [
        "# codice"
      ],
      "metadata": {
        "id": "F_m6q9cZCZKO"
      },
      "execution_count": null,
      "outputs": []
    },
    {
      "cell_type": "markdown",
      "source": [
        "### Discriminator loss"
      ],
      "metadata": {
        "id": "N67IJw9dCkl_"
      }
    },
    {
      "cell_type": "code",
      "source": [
        "# codice"
      ],
      "metadata": {
        "id": "-iE0LHNRCo07"
      },
      "execution_count": null,
      "outputs": []
    },
    {
      "cell_type": "markdown",
      "source": [
        "## Training"
      ],
      "metadata": {
        "id": "H4jqh3PmWmry"
      }
    },
    {
      "cell_type": "code",
      "source": [
        "# codice"
      ],
      "metadata": {
        "id": "iZEIw4lyWp-V"
      },
      "execution_count": null,
      "outputs": []
    }
  ]
}