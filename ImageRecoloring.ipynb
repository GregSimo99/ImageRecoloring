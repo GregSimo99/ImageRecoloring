{
  "nbformat": 4,
  "nbformat_minor": 0,
  "metadata": {
    "colab": {
      "provenance": []
    },
    "kernelspec": {
      "name": "python3",
      "display_name": "Python 3"
    },
    "language_info": {
      "name": "python"
    }
  },
  "cells": [
    {
      "cell_type": "markdown",
      "source": [
        "# Image Recoloring\n",
        "**TODO:**\n",
        "\n",
        "\n",
        "* Dataset class\n",
        "* Training and test split\n",
        "* Data augmentation (?)\n",
        "* Model of generator and discriminator\n",
        "* Loss function\n",
        "* Traing procedure\n",
        "\n"
      ],
      "metadata": {
        "id": "exzWdD-hiKTe"
      }
    },
    {
      "cell_type": "code",
      "execution_count": null,
      "metadata": {
        "id": "57vhPwr8mGNw"
      },
      "outputs": [],
      "source": [
        "# prova"
      ]
    }
  ]
}